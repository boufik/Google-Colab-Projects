{
  "nbformat": 4,
  "nbformat_minor": 0,
  "metadata": {
    "colab": {
      "provenance": [],
      "authorship_tag": "ABX9TyM5L0MsHLPk0HA9s174NFIF",
      "include_colab_link": true
    },
    "kernelspec": {
      "name": "python3",
      "display_name": "Python 3"
    },
    "language_info": {
      "name": "python"
    }
  },
  "cells": [
    {
      "cell_type": "markdown",
      "metadata": {
        "id": "view-in-github",
        "colab_type": "text"
      },
      "source": [
        "<a href=\"https://colab.research.google.com/github/boufik/Google-Colab-Projects/blob/main/100_men_in_prison_strategy.ipynb\" target=\"_parent\"><img src=\"https://colab.research.google.com/assets/colab-badge.svg\" alt=\"Open In Colab\"/></a>"
      ]
    },
    {
      "cell_type": "markdown",
      "source": [
        "# 100 men in prison - The best strategy in the riddle\n",
        "\n",
        "## Rules\n",
        "\n",
        "* 100 prisoners numbered from 0-99\n",
        "* There are also 100 boxes, numbered from 0 to 99 and each one contains a shirt\n",
        "* Each prisoner may enter the room one at a time and can only check 50/100 boxes\n",
        "* As soon as one finds their shirt (with the same number), they must leave the room\n",
        "* In order for them to win and be freed, all must find their shirts"
      ],
      "metadata": {
        "id": "9AKuBXrP6vgw"
      }
    },
    {
      "cell_type": "code",
      "execution_count": 10,
      "metadata": {
        "id": "7jCTLjRj6rhp"
      },
      "outputs": [],
      "source": [
        "import pandas as pd\n",
        "import numpy as np\n",
        "import matplotlib.pyplot as plt\n",
        "import seaborn as sns\n",
        "sns.set_style(\"whitegrid\")"
      ]
    },
    {
      "cell_type": "markdown",
      "source": [
        "## Construct unique permutations - RUN ONCE"
      ],
      "metadata": {
        "id": "XNB8mgI08Nm2"
      }
    },
    {
      "cell_type": "code",
      "source": [
        "N = 10\n",
        "LIMIT = N // 2\n",
        "SIMS = 10**5"
      ],
      "metadata": {
        "id": "QiDxUp_9BWD1"
      },
      "execution_count": 29,
      "outputs": []
    },
    {
      "cell_type": "code",
      "source": [
        "import random\n",
        "\n",
        "def construct_unique_permutations(N, SIMS):\n",
        "    base = list(range(N))\n",
        "    unique = set()\n",
        "    while len(unique) < SIMS:\n",
        "        copied = base[:]\n",
        "        random.shuffle(copied)\n",
        "        perm = tuple(copied)        # Lists are unhashable, tuples can go in sets\n",
        "        unique.add(perm)            # Sets automatically filter for duplicates (no need for an 'if' statement) --> This line of code does NOTHING if \"perm\" is already in set --> Size of the set stays unchanged\n",
        "    return [list(p) for p in unique]\n",
        "\n",
        "perms = construct_unique_permutations(N, SIMS)\n",
        "print(f\"Just created {SIMS} UNIQUE permutations of boxes-shirts from 0-{N-1}\")"
      ],
      "metadata": {
        "colab": {
          "base_uri": "https://localhost:8080/"
        },
        "id": "8i_haP_J8GCD",
        "outputId": "be0099e7-1285-441a-84ff-1f6caf2c26f0"
      },
      "execution_count": 32,
      "outputs": [
        {
          "output_type": "stream",
          "name": "stdout",
          "text": [
            "Just created 100000 UNIQUE permutations of boxes-shirts from 0-9\n"
          ]
        }
      ]
    },
    {
      "cell_type": "markdown",
      "source": [
        "# Best strategy"
      ],
      "metadata": {
        "id": "9hkZFTODddmy"
      }
    },
    {
      "cell_type": "code",
      "source": [
        "def best_strategy(perms, N, LIMIT):\n",
        "\n",
        "    SIMS = len(perms)\n",
        "    wins = 0\n",
        "\n",
        "    for perm in perms:\n",
        "\n",
        "        success = True    # Initialization for each perm - Assume success for this perm, unless a player fails\n",
        "        for player in range(N):\n",
        "            next_box = player  # Initialization for the next_box\n",
        "\n",
        "            for attempt in range(LIMIT):\n",
        "                shirt = perm[next_box]\n",
        "\n",
        "                if shirt == player:\n",
        "                    # If this \"player\" found their shirt --> break this inner loop --> continue with the outer loop and the next \"player\"\n",
        "                    break\n",
        "                else:\n",
        "                    # Go to the next box indicated by the number found\n",
        "                    next_box = shirt\n",
        "            else:\n",
        "                # If player used all attempts without success\n",
        "                success = False\n",
        "                break  # This round failed, move to next permutation\n",
        "\n",
        "        if success:\n",
        "            wins += 1\n",
        "\n",
        "    perc100 = wins / SIMS * 100\n",
        "    print(f\"{80*'~'}\\nSimulations (unique permutations) ran: {SIMS}\\n{N} players from 0 to {N-1} with {LIMIT} attempts to find their shirts\\nWin percentage: {perc100:.4}%\\n{80*'~'}\\n\\n\")\n",
        "    return wins, perc100\n",
        "\n",
        "wins, perc100 = best_strategy(perms, N, LIMIT)"
      ],
      "metadata": {
        "colab": {
          "base_uri": "https://localhost:8080/"
        },
        "id": "GAFBV2rKVTVp",
        "outputId": "6c231685-ccd7-45ce-c151-6c3df9f452c9"
      },
      "execution_count": 33,
      "outputs": [
        {
          "output_type": "stream",
          "name": "stdout",
          "text": [
            "~~~~~~~~~~~~~~~~~~~~~~~~~~~~~~~~~~~~~~~~~~~~~~~~~~~~~~~~~~~~~~~~~~~~~~~~~~~~~~~~\n",
            "Simulations (unique permutations) ran: 100000\n",
            "10 players from 0 to 9 with 5 attempts to find their shirts\n",
            "Win percentage: 35.37%\n",
            "~~~~~~~~~~~~~~~~~~~~~~~~~~~~~~~~~~~~~~~~~~~~~~~~~~~~~~~~~~~~~~~~~~~~~~~~~~~~~~~~\n",
            "\n",
            "\n"
          ]
        }
      ]
    },
    {
      "cell_type": "markdown",
      "source": [
        "# Custom Strategy 1\n",
        "\n",
        "Since the pronouncement says \"As soon as one prisoner finds their shirt (with the same number), they must leave the room\", we can suppose that they have the idea of timing (**a simple timer is needed**).\n",
        "\n",
        "\n",
        "We can map the prisoner's **success box** with their **leave time**. This way, the prisoners can communicate events, in this case in which box the next ones should NOT search inside and waste their attempts!\n",
        "\n",
        "If the prisoner finds their shirt inside the 27th box they checked, then they must leave the room exactly after 27 minutes (we map each attempt with 1 minute, but in real-life. prisoners could use a lower value of mapping).\n",
        "\n",
        "So, if the prisoner leaves the room after 27 minutes (going towards the 28th minute), the other prisoners understand that his shirt was inside the 27th box he searched and they will NOT include it during their attempts. **It is just a hint for the next ones to NOT search in this box!**\n",
        "\n",
        "So, the next prisoners do NOT include the boxes which the previous ones found their respective shirts and increase their probability of finding theirs.\n",
        "\n",
        "***Note: In any strategy, if the first half of the prisoners succeed, it is guaranteed that also the next ones will succeed (if LIMIT = N // 2)***\n",
        "\n",
        "\n",
        "For 10 prisoners, the possibiility of success is:\n",
        "\n",
        "P_suc = 5/10 * 5/9 * 5/8 * 5/7 * 5/6 = 10.33%"
      ],
      "metadata": {
        "id": "7vVYp_hldZrr"
      }
    },
    {
      "cell_type": "code",
      "source": [
        "def custom_strategy1(perms, N, LIMIT, details=False):\n",
        "\n",
        "    SIMS = len(perms)\n",
        "    wins = 0\n",
        "\n",
        "    for perm in perms:\n",
        "\n",
        "        if details:\n",
        "            print(perm)\n",
        "        success = True\n",
        "        boxes_available = perm[:]    # Copy the \"perm\" variable\n",
        "\n",
        "        # I need to check only the first half partition of the prisoners\n",
        "        for player in range(N // 2):\n",
        "            check = boxes_available[:LIMIT]\n",
        "            if details:\n",
        "                print(f\"Player {player} must check this 'perm' partition: {check}\")\n",
        "            if player in check:\n",
        "                if details:\n",
        "                    print(f\"Player {player} FOUND their shirt!\")\n",
        "                boxes_available.remove(player)\n",
        "            else:\n",
        "                # Even if a single player does NOT find their shirt --> the whole \"perm\" is considered as an unsuccessful one --> \"break\" and proceed with the next unique \"perm\"\n",
        "                if details:\n",
        "                    print(f\"Player {player} did NOT find their shirt!\\nExitting this 'perm' simulation...\\n\")\n",
        "                success = False\n",
        "                break\n",
        "\n",
        "        if success:\n",
        "            if details:\n",
        "                print(\"This 'perm' was successful!!!\\n\")\n",
        "            wins += 1\n",
        "\n",
        "    perc100 = wins / SIMS * 100\n",
        "    print(f\"{80*'~'}\\nSimulations (unique permutations) ran: {SIMS}\\n{N} players from 0 to {N-1} with {LIMIT} attempts to find their shirts\\nWin percentage: {perc100:.4}%\\n{80*'~'}\\n\\n\")\n",
        "    return wins, perc100\n",
        "\n",
        "wins_1, perc100_1 = custom_strategy1(perms, N, LIMIT, details=False)"
      ],
      "metadata": {
        "colab": {
          "base_uri": "https://localhost:8080/"
        },
        "id": "-CdCcJIVfuO_",
        "outputId": "96dfdd86-372c-48c8-a645-b0ed4f177426"
      },
      "execution_count": 34,
      "outputs": [
        {
          "output_type": "stream",
          "name": "stdout",
          "text": [
            "~~~~~~~~~~~~~~~~~~~~~~~~~~~~~~~~~~~~~~~~~~~~~~~~~~~~~~~~~~~~~~~~~~~~~~~~~~~~~~~~\n",
            "Simulations (unique permutations) ran: 100000\n",
            "10 players from 0 to 9 with 5 attempts to find their shirts\n",
            "Win percentage: 10.29%\n",
            "~~~~~~~~~~~~~~~~~~~~~~~~~~~~~~~~~~~~~~~~~~~~~~~~~~~~~~~~~~~~~~~~~~~~~~~~~~~~~~~~\n",
            "\n",
            "\n"
          ]
        }
      ]
    },
    {
      "cell_type": "markdown",
      "source": [
        "# Custom Strategy 2\n",
        "\n",
        "In the previous custom strategy, prisoners achieved to \"encode\" only 1 kind of information: the box inside which their shirt was. If one left the room with the shirts after 27 minutes, it signified that his shirt was inside the 27th box he searched, so the remaining prisoners knew where NOT to search.\n",
        "\n",
        "But now, we can come with a better strategy and communicate more info/events. A prisoner can inform the NEXT one if one of the boxes he previously searched (before finding his own one) contained his (NEXT) shirt. So, the next one can either search in the previous boxes and find his shirt with 100% probability if the current player \"notifies\" him to do so, or delete them from his searching options and go for the remaining ones.\n",
        "\n",
        "How to do this? Now, if a player finds his shirt, but has also found the shirt of the next one in the previous boxes he searched, he can now leave with a 0.5 minutes delay from the time he would originally leave.\n",
        "\n",
        "**Example: If prisoner 5 finds his shirt in the 27th box he searched, but he has also found the shirt with number 6 (next player's) inside the previous 26 boxes, he now has to leave after 27.5 minutes. If he leaves after 27 minutes, this means that the previous 26 boxes did NOT contain the shirt with number 6**.\n",
        "\n",
        "So, a comprehensive \"matrix\":\n",
        "\n",
        "* **Leaves after 1 minute (exactly)**: *The other prisoners will NOT search in the 1st box this player searched*\n",
        "* **Leaves after x minutes**: *The other prisoners know that they should NOT search in the x-th box the current player searched, but the next player is also notified to NOT search in the previous x-1 boxes*\n",
        "* **Leaves after x+0.5 minutes**: *The other prisoners know that they should NOT search in the x-th box the current player searched, but the next player is also notified to SEARCH in the previous x-1 boxes as his shirt is inside one of them*\n",
        "* **Leaves after LIMIT minutes**: *This player was lucky to find his shirt in his last attempt, but the time of his leave does NOT hint the next player if he has met his shirt inside the previous LIMIT-1 boxes*"
      ],
      "metadata": {
        "id": "X6ey2OtF3t0C"
      }
    },
    {
      "cell_type": "code",
      "source": [
        "def custom_strategy2(perms, N, LIMIT, details=False):\n",
        "\n",
        "    SIMS = len(perms)\n",
        "    wins = 0\n",
        "\n",
        "    for perm in perms:\n",
        "        if details:\n",
        "            print(f\"{80*'~'}\\n{perm}\\n\")\n",
        "        success = True\n",
        "\n",
        "        boxes = perm[:]    # Copy the permutation\n",
        "        indeces_found = list()    # Will bed used to exclude from search (\"check\")\n",
        "        indeces_NO_search = list()    # Will be used to exclude from search (\"check\")\n",
        "\n",
        "        for player in range(N // 2):\n",
        "\n",
        "            # If-case for where to \"check\" - Do NOT search in the \"forbidden\" indices\n",
        "            forbidden_indeces = set(indeces_found + indeces_NO_search)\n",
        "            forbidden_indeces = sorted(list(forbidden_indeces))\n",
        "            remaining_indeces = [i for i in range(N) if i not in forbidden_indeces]\n",
        "\n",
        "            counter = 0\n",
        "            check = list()\n",
        "\n",
        "            for rem in remaining_indeces:\n",
        "                counter += 1\n",
        "                check.append(boxes[rem])\n",
        "                if counter == LIMIT:\n",
        "                    break\n",
        "\n",
        "            if details:\n",
        "                print(f\"\\n----> Player {player}:\\nperm = {perm}\\nForbidden items:\")\n",
        "                for forb in forbidden_indeces:\n",
        "                    print(f\"{perm[forb]},  \", end=\" \")\n",
        "                print(f\"\\nPlayer {player} must check this 'perm' partition: {check}\")\n",
        "\n",
        "\n",
        "            if player in check:\n",
        "                if details:\n",
        "                    print(f\"Player {player} FOUND his shirt!\")\n",
        "                check_ind_found = check.index(player)\n",
        "                ind_found = boxes.index(player)     # Relative to the original \"boxes\" permutation and not the temporary \"check\" list\n",
        "                indeces_found.append(ind_found)\n",
        "\n",
        "                if player+1 in check[:check_ind_found]:\n",
        "                    # If the player has ALSO found the next one's shirt in this partition until the point he search (:ind_found) and NOT in ALL the parition he could check\n",
        "                    if details:\n",
        "                        print(f\"Player {player} ALSO FOUND shirt '{player+1}' of the next prisoner while searching !!!\")\n",
        "                        indeces_NO_search = list()      # Reset this list, no restrictions for the next person\n",
        "\n",
        "                else:\n",
        "                    if details:\n",
        "                        print(f\"Player {player} has NOT found shirt '{player+1}' of the next prisoner while searching !!!\")\n",
        "                        # We must exclude from the next search all these boxes\n",
        "                        # Example: if ind_found = 2 (starting index = 0), then the NEXT prisoner should NOT search in the positions ind_found-1 and ind_found-2\n",
        "                        indeces_NO_search += list(range(ind_found-1,-1,-1))\n",
        "\n",
        "            else:\n",
        "                # Even if a single player does NOT find their shirt --> the whole \"perm\" is considered as an unsuccessful one --> \"break\" and proceed with the next unique \"perm\"\n",
        "                if details:\n",
        "                    print(f\"Player {player} did NOT find his shirt!\\nExitting this 'perm' simulation...\\n\")\n",
        "                    success = False\n",
        "                    break\n",
        "\n",
        "        if success:\n",
        "            if details:\n",
        "                print(\"This 'perm' was successful!!!\\n\")\n",
        "            wins += 1\n",
        "\n",
        "    perc100 = wins / SIMS * 100\n",
        "    print(f\"{80*'~'}\\nSimulations (unique permutations) ran: {SIMS}\\n{N} players from 0 to {N-1} with {LIMIT} attempts to find their shirts\\nWin percentage: {perc100:.4}%\\n{80*'~'}\\n\\n\")\n",
        "    return wins, perc100\n",
        "\n",
        "wins_2, perc100_2 = custom_strategy2(perms, N, LIMIT, details=False)"
      ],
      "metadata": {
        "colab": {
          "base_uri": "https://localhost:8080/"
        },
        "id": "Eoe3C1Po63dy",
        "outputId": "8c10ab52-2a3c-4ba6-c8cc-d4eb44885ee0"
      },
      "execution_count": 35,
      "outputs": [
        {
          "output_type": "stream",
          "name": "stdout",
          "text": [
            "~~~~~~~~~~~~~~~~~~~~~~~~~~~~~~~~~~~~~~~~~~~~~~~~~~~~~~~~~~~~~~~~~~~~~~~~~~~~~~~~\n",
            "Simulations (unique permutations) ran: 100000\n",
            "10 players from 0 to 9 with 5 attempts to find their shirts\n",
            "Win percentage: 100.0%\n",
            "~~~~~~~~~~~~~~~~~~~~~~~~~~~~~~~~~~~~~~~~~~~~~~~~~~~~~~~~~~~~~~~~~~~~~~~~~~~~~~~~\n",
            "\n",
            "\n"
          ]
        }
      ]
    },
    {
      "cell_type": "markdown",
      "source": [
        "## Statistics"
      ],
      "metadata": {
        "id": "Y1ZV6OTenaY0"
      }
    },
    {
      "cell_type": "code",
      "source": [
        "def pretty_diagramme(bars, y, N):\n",
        "    # Adding labels inside the bars\n",
        "    for bar in bars:\n",
        "        height = bar.get_height()\n",
        "        plt.text(bar.get_x() + bar.get_width() / 2, height / 2,  # position inside bar\n",
        "                f'{height:.2f}%', ha='center', va='center', fontsize=12, color='black')\n",
        "\n",
        "    plt.ylabel('Success Rate (%)')\n",
        "    plt.title(f\"Strategies - Success Rates Comparison for {N} prisoners\")\n",
        "    plt.xticks(rotation=15)\n",
        "    plt.ylim(0, max(y) * 1.1)\n",
        "    plt.show()"
      ],
      "metadata": {
        "id": "Ds0tT7cAp2Gy"
      },
      "execution_count": 36,
      "outputs": []
    },
    {
      "cell_type": "code",
      "source": [
        "import math\n",
        "expected = round(100 * (1 - math.log(N/LIMIT)), 2)\n",
        "success_rate = [expected, perc100, perc100_1]\n",
        "ids = ['Expected_By_Best_Strategy', 'Best_Strategy', 'Custom_Strategy_1']\n",
        "df = pd.DataFrame({'Success_Rate (%)': success_rate}, index=ids)\n",
        "print(f\"{60*'~'}\\n{df}\\n{60*'~'}\\n\\n\")\n",
        "\n",
        "y = list(df['Success_Rate (%)'])\n",
        "plt.figure(figsize=(14, 6))\n",
        "bars = plt.bar(ids, y, color='skyblue')\n",
        "pretty_diagramme(bars, y, N)"
      ],
      "metadata": {
        "colab": {
          "base_uri": "https://localhost:8080/",
          "height": 733
        },
        "id": "HSUIt27OnZrl",
        "outputId": "1b58c817-0a77-4b93-b15a-2fee2baa3f05"
      },
      "execution_count": 37,
      "outputs": [
        {
          "output_type": "stream",
          "name": "stdout",
          "text": [
            "~~~~~~~~~~~~~~~~~~~~~~~~~~~~~~~~~~~~~~~~~~~~~~~~~~~~~~~~~~~~\n",
            "                           Success_Rate (%)\n",
            "Expected_By_Best_Strategy            30.690\n",
            "Best_Strategy                        35.365\n",
            "Custom_Strategy_1                    10.292\n",
            "~~~~~~~~~~~~~~~~~~~~~~~~~~~~~~~~~~~~~~~~~~~~~~~~~~~~~~~~~~~~\n",
            "\n",
            "\n"
          ]
        },
        {
          "output_type": "display_data",
          "data": {
            "text/plain": [
              "<Figure size 1400x600 with 1 Axes>"
            ],
            "image/png": "[encoded data removed]"
          },
          "metadata": {}
        }
      ]
    },
    {
      "cell_type": "markdown",
      "source": [
        "# TESTING"
      ],
      "metadata": {
        "id": "dlFfYXIvkqlD"
      }
    },
    {
      "cell_type": "code",
      "source": [
        "perms = [[8, 3, 1, 4, 0, 6, 2, 7, 9, 5]]\n",
        "\n",
        "def custom_strategy2(perms, N, LIMIT, details=False):\n",
        "\n",
        "    SIMS = len(perms)\n",
        "    wins = 0\n",
        "\n",
        "    for perm in perms:\n",
        "        if details:\n",
        "            print(f\"{80*'~'}\\n{perm}\\n\")\n",
        "        success = True\n",
        "\n",
        "        boxes = perm[:]    # Copy the permutation\n",
        "        indeces_found = list()    # Will be used to exclude from search (\"check\")\n",
        "        banned_values_from_check = list()\n",
        "\n",
        "        for player in range(N // 2):\n",
        "\n",
        "            # If-case for where to \"check\" - Do NOT search in the \"forbidden\" indices\n",
        "            forbidden_indeces = sorted(indeces_found)\n",
        "            forbidden_values = [perm[ii] for ii in forbidden_indeces]\n",
        "            banned_values = banned_values_from_check + forbidden_values\n",
        "            banned_values = list(set(banned_values))\n",
        "            remaining_values = [num for num in range(N) if num not in banned_values]\n",
        "            check = remaining_values[:LIMIT]\n",
        "\n",
        "            if details:\n",
        "                print(f\"\\n----> Player {player}:\\nperm = {perm}\\nForbidden items:\")\n",
        "                for forb in forbidden_indeces:\n",
        "                    print(f\"{perm[forb]},  \", end=\" \")\n",
        "                print(f\"\\nPlayer {player} must check this 'perm' partition: {check}\")\n",
        "\n",
        "            if player in check:\n",
        "                if details:\n",
        "                    print(f\"Player {player} FOUND his shirt!\")\n",
        "                check_ind_found = check.index(player)\n",
        "                ind_found = boxes.index(player)     # Relative to the original \"boxes\" permutation and not the temporary \"check\" list\n",
        "                indeces_found.append(ind_found)\n",
        "\n",
        "                if player+1 in check[:check_ind_found]:\n",
        "                    # If the player has ALSO found the next one's shirt in this partition until the point he search (:ind_found) and NOT in ALL the parition he could check\n",
        "                    if details:\n",
        "                        print(f\"Player {player} ALSO FOUND shirt '{player+1}' of the next prisoner while searching !!!\")\n",
        "                        banned_values_from_check = []\n",
        "\n",
        "                else:\n",
        "                    if details:\n",
        "                        print(f\"Player {player} has NOT found shirt '{player+1}' of the next prisoner while searching !!!\")\n",
        "                        # We must exclude from the next search all these boxes\n",
        "                        # Example: if ind_found = 2 (starting index = 0), then the NEXT prisoner should NOT search in the positions ind_found-1 and ind_found-2\n",
        "                        banned_values_from_check = check[:check_ind_found]\n",
        "\n",
        "            else:\n",
        "                # Even if a single player does NOT find their shirt --> the whole \"perm\" is considered as an unsuccessful one --> \"break\" and proceed with the next unique \"perm\"\n",
        "                if details:\n",
        "                    print(f\"Player {player} did NOT find his shirt!\\nExitting this 'perm' simulation...\\n\")\n",
        "                    success = False\n",
        "                    break\n",
        "\n",
        "        if success:\n",
        "            if details:\n",
        "                print(\"This 'perm' was successful!!!\\n\")\n",
        "            wins += 1\n",
        "\n",
        "    perc100 = wins / SIMS * 100\n",
        "    print(f\"{80*'~'}\\nSimulations (unique permutations) ran: {SIMS}\\n{N} players from 0 to {N-1} with {LIMIT} attempts to find their shirts\\nWin percentage: {perc100:.4}%\\n{80*'~'}\\n\\n\")\n",
        "    return wins, perc100\n",
        "\n",
        "wins_2, perc100_2 = custom_strategy2(perms, N, LIMIT, details=True)"
      ],
      "metadata": {
        "colab": {
          "base_uri": "https://localhost:8080/"
        },
        "id": "OPV8ANx-h1dx",
        "outputId": "3bac3cbf-6110-4a6e-988e-20278f3b0131"
      },
      "execution_count": 38,
      "outputs": [
        {
          "output_type": "stream",
          "name": "stdout",
          "text": [
            "~~~~~~~~~~~~~~~~~~~~~~~~~~~~~~~~~~~~~~~~~~~~~~~~~~~~~~~~~~~~~~~~~~~~~~~~~~~~~~~~\n",
            "[8, 3, 1, 4, 0, 6, 2, 7, 9, 5]\n",
            "\n",
            "\n",
            "----> Player 0:\n",
            "perm = [8, 3, 1, 4, 0, 6, 2, 7, 9, 5]\n",
            "Forbidden items:\n",
            "\n",
            "Player 0 must check this 'perm' partition: [0, 1, 2, 3, 4]\n",
            "Player 0 FOUND his shirt!\n",
            "Player 0 has NOT found shirt '1' of the next prisoner while searching !!!\n",
            "\n",
            "----> Player 1:\n",
            "perm = [8, 3, 1, 4, 0, 6, 2, 7, 9, 5]\n",
            "Forbidden items:\n",
            "0,   \n",
            "Player 1 must check this 'perm' partition: [1, 2, 3, 4, 5]\n",
            "Player 1 FOUND his shirt!\n",
            "Player 1 has NOT found shirt '2' of the next prisoner while searching !!!\n",
            "\n",
            "----> Player 2:\n",
            "perm = [8, 3, 1, 4, 0, 6, 2, 7, 9, 5]\n",
            "Forbidden items:\n",
            "1,   0,   \n",
            "Player 2 must check this 'perm' partition: [2, 3, 4, 5, 6]\n",
            "Player 2 FOUND his shirt!\n",
            "Player 2 has NOT found shirt '3' of the next prisoner while searching !!!\n",
            "\n",
            "----> Player 3:\n",
            "perm = [8, 3, 1, 4, 0, 6, 2, 7, 9, 5]\n",
            "Forbidden items:\n",
            "1,   0,   2,   \n",
            "Player 3 must check this 'perm' partition: [3, 4, 5, 6, 7]\n",
            "Player 3 FOUND his shirt!\n",
            "Player 3 has NOT found shirt '4' of the next prisoner while searching !!!\n",
            "\n",
            "----> Player 4:\n",
            "perm = [8, 3, 1, 4, 0, 6, 2, 7, 9, 5]\n",
            "Forbidden items:\n",
            "3,   1,   0,   2,   \n",
            "Player 4 must check this 'perm' partition: [4, 5, 6, 7, 8]\n",
            "Player 4 FOUND his shirt!\n",
            "Player 4 has NOT found shirt '5' of the next prisoner while searching !!!\n",
            "This 'perm' was successful!!!\n",
            "\n",
            "~~~~~~~~~~~~~~~~~~~~~~~~~~~~~~~~~~~~~~~~~~~~~~~~~~~~~~~~~~~~~~~~~~~~~~~~~~~~~~~~\n",
            "Simulations (unique permutations) ran: 1\n",
            "10 players from 0 to 9 with 5 attempts to find their shirts\n",
            "Win percentage: 100.0%\n",
            "~~~~~~~~~~~~~~~~~~~~~~~~~~~~~~~~~~~~~~~~~~~~~~~~~~~~~~~~~~~~~~~~~~~~~~~~~~~~~~~~\n",
            "\n",
            "\n"
          ]
        }
      ]
    }
  ]
}