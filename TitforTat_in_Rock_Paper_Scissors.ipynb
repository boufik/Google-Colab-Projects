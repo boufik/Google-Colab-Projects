{
  "nbformat": 4,
  "nbformat_minor": 0,
  "metadata": {
    "colab": {
      "provenance": [],
      "authorship_tag": "ABX9TyOvouZEfI5dkPNREqeS9IOu",
      "include_colab_link": true
    },
    "kernelspec": {
      "name": "python3",
      "display_name": "Python 3"
    },
    "language_info": {
      "name": "python"
    }
  },
  "cells": [
    {
      "cell_type": "markdown",
      "metadata": {
        "id": "view-in-github",
        "colab_type": "text"
      },
      "source": [
        "<a href=\"https://colab.research.google.com/github/boufik/Google-Colab-Projects/blob/main/TitforTat_in_Rock_Paper_Scissors.ipynb\" target=\"_parent\"><img src=\"https://colab.research.google.com/assets/colab-badge.svg\" alt=\"Open In Colab\"/></a>"
      ]
    },
    {
      "cell_type": "markdown",
      "source": [
        "# Basics"
      ],
      "metadata": {
        "id": "_IMRhmCKaIjO"
      }
    },
    {
      "cell_type": "code",
      "execution_count": 4,
      "metadata": {
        "id": "KOaGF8oYXOfA"
      },
      "outputs": [],
      "source": [
        "import numpy as np\n",
        "import pandas as pd\n",
        "import matplotlib.pyplot as plt\n",
        "import seaborn as sns\n",
        "sns.set_style('whitegrid')"
      ]
    },
    {
      "cell_type": "code",
      "source": [
        "def determine_winner(move1, move2):\n",
        "    if move1 == move2:\n",
        "        return 'Tie'\n",
        "    if move1 == 'Rock':\n",
        "        return 1 if move2 == 'Scissors' else 2\n",
        "    if move1 == 'Paper':\n",
        "        return 1 if move2 == 'Rock' else 2\n",
        "    if move1 == 'Scissors':\n",
        "        return 1 if move2 == 'Paper' else 2"
      ],
      "metadata": {
        "id": "280c8EHsXgps"
      },
      "execution_count": 5,
      "outputs": []
    },
    {
      "cell_type": "code",
      "source": [
        "moves_ALL = ['Rock', 'Paper', 'Scissors']\n",
        "for move1 in moves_ALL:\n",
        "    for move2 in moves_ALL:\n",
        "        print(f\"Player 1 vs Player 2\\n{move1} vs {move2}\")\n",
        "        winner = determine_winner(move1, move2)\n",
        "        if winner == 'Tie':\n",
        "            print(\"It is a tie!\\n\")\n",
        "        else:\n",
        "            print(f\"Player {winner} wins!\\n\")"
      ],
      "metadata": {
        "colab": {
          "base_uri": "https://localhost:8080/"
        },
        "id": "6v_nCuoDYpoR",
        "outputId": "7c055716-e297-4d7c-dad1-ed1d09df6444"
      },
      "execution_count": 6,
      "outputs": [
        {
          "output_type": "stream",
          "name": "stdout",
          "text": [
            "Player 1 vs Player 2\n",
            "Rock vs Rock\n",
            "It is a tie!\n",
            "\n",
            "Player 1 vs Player 2\n",
            "Rock vs Paper\n",
            "Player 2 wins!\n",
            "\n",
            "Player 1 vs Player 2\n",
            "Rock vs Scissors\n",
            "Player 1 wins!\n",
            "\n",
            "Player 1 vs Player 2\n",
            "Paper vs Rock\n",
            "Player 1 wins!\n",
            "\n",
            "Player 1 vs Player 2\n",
            "Paper vs Paper\n",
            "It is a tie!\n",
            "\n",
            "Player 1 vs Player 2\n",
            "Paper vs Scissors\n",
            "Player 2 wins!\n",
            "\n",
            "Player 1 vs Player 2\n",
            "Scissors vs Rock\n",
            "Player 2 wins!\n",
            "\n",
            "Player 1 vs Player 2\n",
            "Scissors vs Paper\n",
            "Player 1 wins!\n",
            "\n",
            "Player 1 vs Player 2\n",
            "Scissors vs Scissors\n",
            "It is a tie!\n",
            "\n"
          ]
        }
      ]
    },
    {
      "cell_type": "markdown",
      "source": [
        "# Strategies"
      ],
      "metadata": {
        "id": "ZpuTDSMvaLTX"
      }
    },
    {
      "cell_type": "code",
      "source": [
        "def random_strategy(round, opponent_moves):\n",
        "    # Random strategy\n",
        "    return np.random.choice(['Rock', 'Paper', 'Scissors'], p=[1/3, 1/3, 1/3])\n",
        "\n",
        "def tit_for_tat(round, opponent_moves):\n",
        "    # From round 2, it copies its opponent's decision in the last move\n",
        "    if round == 1:\n",
        "        return 'Scissors'\n",
        "    else:\n",
        "        return opponent_moves[-1]"
      ],
      "metadata": {
        "id": "BF3p4Aj2aV9Q"
      },
      "execution_count": 7,
      "outputs": []
    },
    {
      "cell_type": "markdown",
      "source": [
        "# One Game"
      ],
      "metadata": {
        "id": "PxudMM2ydeCm"
      }
    },
    {
      "cell_type": "code",
      "source": [
        "def simulate(ROUNDS, strategy1, strategy2, verbose=False, stats=False):\n",
        "    wins1 = 0\n",
        "    wins2 = 0\n",
        "    ties = 0\n",
        "    moves1 = []\n",
        "    moves2 = []\n",
        "    for round in range(1, ROUNDS + 1):\n",
        "        wins1_initial = wins1\n",
        "        wins2_initial = wins2\n",
        "        move1 = strategy1(round, moves2)\n",
        "        move2 = strategy2(round, moves1)\n",
        "        moves1.append(move1)\n",
        "        moves2.append(move2)\n",
        "        winner = determine_winner(move1, move2)\n",
        "        if winner == 'Tie':\n",
        "            ties += 1\n",
        "        else:\n",
        "            wins1 += 1 if winner == 1 else 0\n",
        "            wins2 += 1 if winner == 2 else 0\n",
        "        if verbose:\n",
        "            print(f\"----> Round {round}\")\n",
        "            print(f\"Player 1 plays: {move1}\\nPlayer 2 plays: {move2}\")\n",
        "            if winner == 'Tie':\n",
        "                print(f\"It is a tie!\\nScore: {wins1} - {wins2}\\n\")\n",
        "            else:\n",
        "                print(f\"Player {winner} wins!\\nScore: {wins1} - {wins2}\\n\")\n",
        "    if stats:\n",
        "        print(f\"{34 * '~'}\\n{strategy1.__name__} vs {strategy2.__name__}\")\n",
        "        print(f\"Rounds = {ROUNDS}\\nWins1 = {wins1}\\nWins2 = {wins2}\\nTies = {ties}\\n{34 * '~'}\\n\")\n",
        "    return wins1, wins2, ties\n",
        "\n",
        "wins1, wins2, ties = simulate(10, random_strategy, tit_for_tat, verbose=True, stats=True)"
      ],
      "metadata": {
        "colab": {
          "base_uri": "https://localhost:8080/"
        },
        "id": "0cQ-NfDRasHl",
        "outputId": "10ae8215-6fd6-4e6d-de9f-0808d2c131ce"
      },
      "execution_count": 8,
      "outputs": [
        {
          "output_type": "stream",
          "name": "stdout",
          "text": [
            "----> Round 1\n",
            "Player 1 plays: Paper\n",
            "Player 2 plays: Scissors\n",
            "Player 2 wins!\n",
            "Score: 0 - 1\n",
            "\n",
            "----> Round 2\n",
            "Player 1 plays: Paper\n",
            "Player 2 plays: Paper\n",
            "It is a tie!\n",
            "Score: 0 - 1\n",
            "\n",
            "----> Round 3\n",
            "Player 1 plays: Scissors\n",
            "Player 2 plays: Paper\n",
            "Player 1 wins!\n",
            "Score: 1 - 1\n",
            "\n",
            "----> Round 4\n",
            "Player 1 plays: Rock\n",
            "Player 2 plays: Scissors\n",
            "Player 1 wins!\n",
            "Score: 2 - 1\n",
            "\n",
            "----> Round 5\n",
            "Player 1 plays: Rock\n",
            "Player 2 plays: Rock\n",
            "It is a tie!\n",
            "Score: 2 - 1\n",
            "\n",
            "----> Round 6\n",
            "Player 1 plays: Paper\n",
            "Player 2 plays: Rock\n",
            "Player 1 wins!\n",
            "Score: 3 - 1\n",
            "\n",
            "----> Round 7\n",
            "Player 1 plays: Paper\n",
            "Player 2 plays: Paper\n",
            "It is a tie!\n",
            "Score: 3 - 1\n",
            "\n",
            "----> Round 8\n",
            "Player 1 plays: Paper\n",
            "Player 2 plays: Paper\n",
            "It is a tie!\n",
            "Score: 3 - 1\n",
            "\n",
            "----> Round 9\n",
            "Player 1 plays: Scissors\n",
            "Player 2 plays: Paper\n",
            "Player 1 wins!\n",
            "Score: 4 - 1\n",
            "\n",
            "----> Round 10\n",
            "Player 1 plays: Rock\n",
            "Player 2 plays: Scissors\n",
            "Player 1 wins!\n",
            "Score: 5 - 1\n",
            "\n",
            "~~~~~~~~~~~~~~~~~~~~~~~~~~~~~~~~~~\n",
            "random_strategy vs tit_for_tat\n",
            "Rounds = 10\n",
            "Wins1 = 5\n",
            "Wins2 = 1\n",
            "Ties = 4\n",
            "~~~~~~~~~~~~~~~~~~~~~~~~~~~~~~~~~~\n",
            "\n"
          ]
        }
      ]
    },
    {
      "cell_type": "markdown",
      "source": [
        "# Two Games"
      ],
      "metadata": {
        "id": "V1FQmbfXdZB4"
      }
    },
    {
      "cell_type": "code",
      "source": [
        "def print_bars(fig, BAR):\n",
        "    for bar in BAR:\n",
        "        height = bar.get_height()\n",
        "        x = bar.get_x() + bar.get_width() / 2\n",
        "        y = height / 2\n",
        "        plt.text(x, y, f'{int(height)}', ha='center', va='center', color='white', fontsize=12, fontweight='bold')\n",
        "\n",
        "def play_two_games(ROUNDS, strategies1, strategies2, verbose=False, stats=False, visualize=False):\n",
        "    LEN = len(strategies1) if len(strategies1) == len(strategies2) else 0\n",
        "    for index in range(LEN):\n",
        "        strategy1 = strategies1[index]\n",
        "        strategy2 = strategies2[index]\n",
        "        wins1, wins2, ties = simulate(SIMS, strategy1, strategy2, verbose=False, stats=True)\n",
        "        if visualize:\n",
        "            fig = plt.figure(figsize=(10, 6))\n",
        "            x = [0, 1, 2]\n",
        "            y = [wins1, wins2, ties]\n",
        "            BAR = plt.bar(x, y)\n",
        "            plt.xticks(x, ['Wins1', 'Wins2', 'Ties'])\n",
        "            plt.title(f\"{strategy1.__name__} vs {strategy2.__name__}\")\n",
        "            print_bars(fig, BAR)\n",
        "            plt.show()\n",
        "            print(\"\\n\")\n",
        "\n",
        "# Player 1 plays always randomly, while Player 2 plays randomly only in the first game\n",
        "# Player 2 plays TitForTat in the second game\n",
        "strategies1 = [random_strategy, random_strategy]\n",
        "strategies2 = [random_strategy, tit_for_tat]\n",
        "SIMS = 3 * 10**4\n",
        "play_two_games(10, strategies1, strategies2, verbose=False, stats=True, visualize=True)"
      ],
      "metadata": {
        "colab": {
          "base_uri": "https://localhost:8080/",
          "height": 1000
        },
        "id": "Jz7zA8CEdQ3i",
        "outputId": "45155157-6fdf-4b84-884e-a8bedc8995d6"
      },
      "execution_count": 10,
      "outputs": [
        {
          "output_type": "stream",
          "name": "stdout",
          "text": [
            "~~~~~~~~~~~~~~~~~~~~~~~~~~~~~~~~~~\n",
            "random_strategy vs random_strategy\n",
            "Rounds = 30000\n",
            "Wins1 = 9982\n",
            "Wins2 = 10014\n",
            "Ties = 10004\n",
            "~~~~~~~~~~~~~~~~~~~~~~~~~~~~~~~~~~\n",
            "\n"
          ]
        },
        {
          "output_type": "display_data",
          "data": {
            "text/plain": [
              "<Figure size 1000x600 with 1 Axes>"
            ],
            "image/png": "[encoded data removed]"
          },
          "metadata": {}
        },
        {
          "output_type": "stream",
          "name": "stdout",
          "text": [
            "\n",
            "\n",
            "~~~~~~~~~~~~~~~~~~~~~~~~~~~~~~~~~~\n",
            "random_strategy vs tit_for_tat\n",
            "Rounds = 30000\n",
            "Wins1 = 10136\n",
            "Wins2 = 10024\n",
            "Ties = 9840\n",
            "~~~~~~~~~~~~~~~~~~~~~~~~~~~~~~~~~~\n",
            "\n"
          ]
        },
        {
          "output_type": "display_data",
          "data": {
            "text/plain": [
              "<Figure size 1000x600 with 1 Axes>"
            ],
            "image/png": "[encoded data removed]"
          },
          "metadata": {}
        },
        {
          "output_type": "stream",
          "name": "stdout",
          "text": [
            "\n",
            "\n"
          ]
        }
      ]
    }
  ]
}