{
  "nbformat": 4,
  "nbformat_minor": 0,
  "metadata": {
    "colab": {
      "provenance": [],
      "authorship_tag": "ABX9TyPPZsnQ447Fq5RbBnX6iO6G",
      "include_colab_link": true
    },
    "kernelspec": {
      "name": "python3",
      "display_name": "Python 3"
    },
    "language_info": {
      "name": "python"
    }
  },
  "cells": [
    {
      "cell_type": "markdown",
      "metadata": {
        "id": "view-in-github",
        "colab_type": "text"
      },
      "source": [
        "<a href=\"https://colab.research.google.com/github/boufik/Google-Colab-Projects/blob/main/TitForTat.ipynb\" target=\"_parent\"><img src=\"https://colab.research.google.com/assets/colab-badge.svg\" alt=\"Open In Colab\"/></a>"
      ]
    },
    {
      "cell_type": "markdown",
      "source": [
        "# Rules for gaining coins\n",
        "## Cooperation / Cooperation : 3 / 3\n",
        "## Cooperation / defection : 0 / 5\n",
        "## defection / defection : 1 / 1"
      ],
      "metadata": {
        "id": "kT7oRTVFbZXg"
      }
    },
    {
      "cell_type": "markdown",
      "source": [
        "# Critical variables\n",
        "* ROUNDS (200)\n",
        "* ITERATIONS (10)\n",
        "* play_with_itself (True)\n",
        "* include_random (False)\n",
        "* verbose (False)\n",
        "* stats (True)\n",
        "* visualize (False)"
      ],
      "metadata": {
        "id": "P4hJExmMN7gb"
      }
    },
    {
      "cell_type": "code",
      "source": [
        "import numpy as np\n",
        "import pandas as pd\n",
        "import matplotlib.pyplot as plt\n",
        "import seaborn as sns\n",
        "sns.set_style(\"darkgrid\")"
      ],
      "metadata": {
        "id": "XdhCAkMwhSX1"
      },
      "execution_count": 243,
      "outputs": []
    },
    {
      "cell_type": "code",
      "execution_count": 244,
      "metadata": {
        "id": "oQQlb-kHbC4s"
      },
      "outputs": [],
      "source": [
        "def determine_new_points(points1, points2, decision1, decision2):\n",
        "    if decision1 == 'C' and decision2 == 'C':\n",
        "        points1 += 3\n",
        "        points2 += 3\n",
        "    elif decision1 == 'C' and decision2 == 'd':\n",
        "        points1 += 0\n",
        "        points2 += 5\n",
        "    elif decision1 == 'd' and decision2 == 'C':\n",
        "        points1 += 5\n",
        "        points2 += 0\n",
        "    else:\n",
        "        points1 += 1\n",
        "        points2 += 1\n",
        "    return points1, points2"
      ]
    },
    {
      "cell_type": "markdown",
      "source": [
        "# STRATEGIES"
      ],
      "metadata": {
        "id": "H_2tYvQTc4Bx"
      }
    },
    {
      "cell_type": "code",
      "source": [
        "def tit_for_tat(round, opponent_moves):\n",
        "    # Starts cooperating. From round 2, it copies its opponent's decision in the last move\n",
        "    if round == 1:\n",
        "        return 'C'\n",
        "    else:\n",
        "        return opponent_moves[-1]\n",
        "\n",
        "\n",
        "def tit_for_two_tats(round, opponent_moves):\n",
        "    if round == 1 or round == 2:\n",
        "        return 'C'\n",
        "    else:\n",
        "        if opponent_moves[-1] == 'd' and opponent_moves[-2] == 'd':\n",
        "            return 'd'\n",
        "        else:\n",
        "            return 'C'\n",
        "\n",
        "\n",
        "def joss(round, opponent_moves):\n",
        "    # Like Tit for Tat. But 10% of the time, it gets sneaky and defects\n",
        "    if round == 1:\n",
        "        return 'C'\n",
        "    else:\n",
        "        if np.random.rand() < 0.1:\n",
        "            return 'd'\n",
        "        else:\n",
        "            return opponent_moves[-1]\n",
        "\n",
        "\n",
        "def graaskamp(round, opponent_moves):\n",
        "    # Like Tit for Tat. But in the 50th round, it always defects to test its opponents\n",
        "    if round == 1:\n",
        "        return 'C'\n",
        "    elif round == 50:\n",
        "        return 'd'\n",
        "    else:\n",
        "        return opponent_moves[-1]\n",
        "\n",
        "\n",
        "def unforgiving(round, opponent_moves):\n",
        "    # AKA Friedman. If the opponent defects once, then it defects every other single time\n",
        "    if round == 1:\n",
        "        return 'C'\n",
        "    else:\n",
        "        if 'd' in opponent_moves:\n",
        "            return 'd'\n",
        "        else:\n",
        "            return 'C'\n",
        "\n",
        "def always_cooperate(round, opponent_moves):\n",
        "    # Cooperate every round\n",
        "    return 'C'\n",
        "\n",
        "\n",
        "def always_defect(round, opponent_moves):\n",
        "    # Defect every round\n",
        "    return 'd'\n",
        "\n",
        "def tester(round, opponent_moves):\n",
        "    if round == 1:                        # In round = 1, it begins with a tricky 'd' movement\n",
        "        return 'd'\n",
        "    elif round == 2:\n",
        "        return 'C'                        # In round = 2, it waits to see its opponent's reaction and plays 'C'\n",
        "    else:                                 # In round > 2, checks if the opponent has reacted to its 1st 'defect' move in round 2\n",
        "        opp2 = opponent_moves[1]\n",
        "        if opp2 == 'd':                   # If opponent has reacted ---> apologizes in round 3 (by playing 'C') + plays TFT in next rounds (>=4)\n",
        "            if round == 3:\n",
        "                return 'C'\n",
        "            else:\n",
        "                return tit_for_tat(round, opponent_moves)\n",
        "        else:                             # If opponent did NOT react in round 2, it plays 'd' again in every odd round (3, 5, 7, etc)\n",
        "            return 'd' if round % 2 == 1 else 'C'\n",
        "\n",
        "def random_strategy(round, opponent_moves):\n",
        "    # Random strategy\n",
        "    return np.random.choice(['C', 'd'], p=[0.5, 0.5])\n",
        "\n",
        "\n",
        "custom = ['d', 'd', 'C', 'C', 'd', 'C', 'd', 'd', 'd', 'C']\n",
        "def custom_strategy(round, opponent_moves):\n",
        "    return custom[round - 1]"
      ],
      "metadata": {
        "id": "txQRJs4cc3SV"
      },
      "execution_count": 245,
      "outputs": []
    },
    {
      "cell_type": "code",
      "source": [
        "include_random = False\n",
        "strategies_ALL= {tit_for_tat:\"TFT\", tit_for_two_tats:\"TF2T\", joss:\"Joss\", graaskamp:\"Graaskamp\", unforgiving:\"Unforgiving\", always_cooperate:\"AC\", always_defect:\"Ad\", tester:\"Tester\"}\n",
        "if include_random:\n",
        "    strategies_ALL[random_strategy] = \"Random\"\n",
        "MAX_FOR_VISUALIZATION = 10\n",
        "color_map = {'C': 'green', 'd': 'red'}"
      ],
      "metadata": {
        "id": "it5d1tTgcfeY"
      },
      "execution_count": 246,
      "outputs": []
    },
    {
      "cell_type": "code",
      "source": [
        "def simulate(ROUNDS, strategy1, strategy2, verbose=False, stats=False, visualize=False):\n",
        "    points1 = 0\n",
        "    points2 = 0\n",
        "    strategy1_moves = []\n",
        "    strategy2_moves = []\n",
        "    for round in range(1, ROUNDS + 1):\n",
        "        points1_initial = points1\n",
        "        points2_initial = points2\n",
        "        decision1 = strategy1(round, strategy2_moves)\n",
        "        decision2 = strategy2(round, strategy1_moves)\n",
        "        strategy1_moves.append(decision1)\n",
        "        strategy2_moves.append(decision2)\n",
        "        points1, points2 = determine_new_points(points1_initial, points2_initial, decision1, decision2)\n",
        "        if verbose:\n",
        "            print(f\"Round {round}\")\n",
        "            print(f\"{strategies_ALL[strategy1]} ---> {decision1} : {points1} points (+{points1 - points1_initial})\")\n",
        "            print(f\"{strategies_ALL[strategy2]} ---> {decision2} : {points2} points (+{points2 - points2_initial})\")\n",
        "    if stats:\n",
        "        print(f\"{30 * '~'}\\nRounds : {ROUNDS}\\n{strategies_ALL[strategy1]} vs {strategies_ALL[strategy2]}\\n{points1} - {points2}\\n{30 * '~'}\\n\")\n",
        "    if visualize:\n",
        "        visualize_game(strategy1, strategy2, strategy1_moves, strategy2_moves, points1, points2)\n",
        "    return points1, points2"
      ],
      "metadata": {
        "id": "5TW1nz-MfreV"
      },
      "execution_count": 247,
      "outputs": []
    },
    {
      "cell_type": "code",
      "source": [
        "def visualize_game(strategy1, strategy2, strategy1_moves, strategy2_moves, points1, points2):\n",
        "    # I will visualize the moves with green and red, but only for the first \"MAX_VOR_VISUALIZATION\" moves/rounds of the game\n",
        "    # Strategy 1 will be visualized along the axis y=2 (above), while strategy 2 along the axis y=1 (below)\n",
        "    LEN1 = len(strategy1_moves)\n",
        "    LEN2 = len(strategy2_moves)\n",
        "    if LEN1 == LEN2:\n",
        "        LEN = LEN1\n",
        "    LEN = min(LEN, MAX_FOR_VISUALIZATION)\n",
        "    if LEN > 0:\n",
        "        moves1 = strategy1_moves[:LEN]\n",
        "        moves2 = strategy2_moves[:LEN]\n",
        "        colors1 = [color_map[move1] for move1 in moves1]\n",
        "        colors2 = [color_map[move2] for move2 in moves2]\n",
        "        x = np.arange(1, LEN + 1)\n",
        "        y1 = LEN * [2]\n",
        "        y2 = LEN * [1]\n",
        "        plt.figure(figsize=(12, 4))\n",
        "        # plt.plot(x, y1, color='white', linestyle='--')\n",
        "        # plt.plot(x, y2, color='black', linestyle='--')\n",
        "        plt.scatter(x, y1, color=colors1, s=200)\n",
        "        plt.scatter(x, y2, color=colors2, s=200)\n",
        "        plt.xlabel('Round')\n",
        "        plt.ylabel('Strategy')\n",
        "        plt.title(f\"{strategies_ALL[strategy1]} vs {strategies_ALL[strategy2]} : {points1} - {points2}\")\n",
        "        # plt.legend([strategies_ALL[strategy1], strategies_ALL[strategy2]])\n",
        "        plt.show()"
      ],
      "metadata": {
        "id": "Vhx4pO96u0Ud"
      },
      "execution_count": 248,
      "outputs": []
    },
    {
      "cell_type": "markdown",
      "source": [
        "# Only 1 game : Strategy 1 vs Strategy 2"
      ],
      "metadata": {
        "id": "b4-Q_xvdtsTM"
      }
    },
    {
      "cell_type": "code",
      "source": [
        "# MAX POINTS = ROUNDS * 5 (I always defect and opponent always cooperates)\n",
        "# MAX POINTS = ROUNDS * 3 (By both cooperating)\n",
        "ROUNDS = 10\n",
        "strategy1 = tester\n",
        "strategy2 = tit_for_tat\n",
        "points1, points2 = simulate(ROUNDS, strategy1, strategy2, verbose=False, stats=True, visualize=True)"
      ],
      "metadata": {
        "colab": {
          "base_uri": "https://localhost:8080/",
          "height": 514
        },
        "id": "XSaKcRLzfOZb",
        "outputId": "4b49ee10-7257-4b95-9501-f89a964fde36"
      },
      "execution_count": 249,
      "outputs": [
        {
          "output_type": "stream",
          "name": "stdout",
          "text": [
            "~~~~~~~~~~~~~~~~~~~~~~~~~~~~~~\n",
            "Rounds : 10\n",
            "Tester vs TFT\n",
            "29 - 29\n",
            "~~~~~~~~~~~~~~~~~~~~~~~~~~~~~~\n",
            "\n"
          ]
        },
        {
          "output_type": "display_data",
          "data": {
            "text/plain": [
              "<Figure size 1200x400 with 1 Axes>"
            ],
            "image/png": "[encoded data removed]"
          },
          "metadata": {}
        }
      ]
    },
    {
      "cell_type": "markdown",
      "source": [
        "# Tournament with 1 iteration"
      ],
      "metadata": {
        "id": "gtNcZxX493qM"
      }
    },
    {
      "cell_type": "code",
      "source": [
        "def tournament(ROUNDS, strategies_ALL, play_with_itself=False, verbose=False, stats=False):\n",
        "\n",
        "    strategies = list(strategies_ALL.keys())\n",
        "    strategies_points = {strategy:0 for strategy in strategies}\n",
        "    NUM = len(strategies_ALL)\n",
        "    matches = 0\n",
        "\n",
        "    if verbose:\n",
        "        print(f\"{70 * '~'}\\nThere are {NUM} strategies\\nEvery strategy will play one match against the other {NUM - 1} strategies, so:\")\n",
        "        print(f\"1v1 Battles = {NUM-1} + {NUM-2} + .... + 2 + 1 = {sum(range(1, NUM))}\")\n",
        "        print(f\"Also, every strategy will play with itself, so:\")\n",
        "        print(f\"\\nTotal Battles = {sum(range(1, NUM))} + {NUM} = {sum(range(1, NUM)) + NUM}\\n{70 * '~'}\\n\")\n",
        "\n",
        "    for i in range(NUM-1):\n",
        "        strategy1 = strategies[i]\n",
        "        for j in range(i + 1, NUM):\n",
        "            strategy2 = strategies[j]\n",
        "            matches += 1\n",
        "            points1, points2 = simulate(ROUNDS, strategy1, strategy2)\n",
        "            strategies_points[strategy1] += points1\n",
        "            strategies_points[strategy2] += points2\n",
        "            if verbose:\n",
        "                print(f\"{matches:2}) {strategies_ALL[strategy1]} vs {strategies_ALL[strategy2]}  :  {points1} - {points2}\")\n",
        "\n",
        "    if play_with_itself:\n",
        "        if verbose:\n",
        "            print()\n",
        "        for strategy in strategies:\n",
        "            # If stratergy 1 plays with strategy 1, 2 scores are generated for the same strategey ---> Take the average\n",
        "            matches += 1\n",
        "            points1, points2 = simulate(ROUNDS, strategy, strategy)\n",
        "            # print(f\"{strategies_points[strategy]} ---> +{points1}\", end=\"\")\n",
        "            strategies_points[strategy] += round((points1 + points2) / 2)\n",
        "            # print(f\" ---> {strategies_points[strategy]}\")\n",
        "            if verbose:\n",
        "                print(f\"{matches:2}) {strategies_ALL[strategy]} vs {strategies_ALL[strategy]}  :  {points1} - {points2}\")\n",
        "\n",
        "    sorted_points = dict(sorted(strategies_points.items(), key=lambda item: item[1], reverse=True))\n",
        "\n",
        "    if stats:\n",
        "        print(f\"\\n{70 * '~'}\")\n",
        "        for strategy in sorted_points.keys():\n",
        "            print(f\"{strategies_ALL[strategy]:11} : {sorted_points[strategy]}\")\n",
        "        print(70 * '~')\n",
        "\n",
        "    return sorted_points"
      ],
      "metadata": {
        "id": "UBCSVS0SFGRR"
      },
      "execution_count": 257,
      "outputs": []
    },
    {
      "cell_type": "code",
      "source": [
        "# Initialization\n",
        "ROUNDS = 200\n",
        "sorted_points = tournament(ROUNDS, strategies_ALL, play_with_itself=True, verbose=False, stats=True)"
      ],
      "metadata": {
        "colab": {
          "base_uri": "https://localhost:8080/"
        },
        "id": "F1h2iL-j9-lJ",
        "outputId": "2145385c-3e24-4e04-fcee-2b354bdb3d58"
      },
      "execution_count": 258,
      "outputs": [
        {
          "output_type": "stream",
          "name": "stdout",
          "text": [
            "\n",
            "~~~~~~~~~~~~~~~~~~~~~~~~~~~~~~~~~~~~~~~~~~~~~~~~~~~~~~~~~~~~~~~~~~~~~~\n",
            "TF2T        : 4032\n",
            "TFT         : 3969\n",
            "AC          : 3843\n",
            "Tester      : 3733\n",
            "Graaskamp   : 3323\n",
            "Unforgiving : 3312\n",
            "Joss        : 2679\n",
            "Ad          : 2432\n",
            "~~~~~~~~~~~~~~~~~~~~~~~~~~~~~~~~~~~~~~~~~~~~~~~~~~~~~~~~~~~~~~~~~~~~~~\n"
          ]
        }
      ]
    },
    {
      "cell_type": "markdown",
      "source": [
        "# Tournament with many iterations"
      ],
      "metadata": {
        "id": "j1G4kshHNu-x"
      }
    },
    {
      "cell_type": "markdown",
      "source": [
        "## 1) Keep the results in a list of dictionaries"
      ],
      "metadata": {
        "id": "C7o_RfqxQEV-"
      }
    },
    {
      "cell_type": "code",
      "source": [
        "ITERATIONS = 10\n",
        "results1 = []\n",
        "results2 = []\n",
        "\n",
        "for ITERATION in range(1, ITERATIONS + 1):\n",
        "    sorted_points = tournament(ROUNDS, strategies_ALL, play_with_itself=True)\n",
        "    results1.append(sorted_points)\n",
        "\n",
        "for ITERATION in range(1, ITERATIONS + 1):\n",
        "    sorted_points = tournament(ROUNDS, strategies_ALL)\n",
        "    results2.append(sorted_points)\n",
        "\n",
        "# results = [{iter1}, {iter2}, ...., {iter10}]\n",
        "# Example of {iter1}\n",
        "\"\"\"\n",
        "TF2T        : 4039\n",
        "TFT         : 3999\n",
        "AC          : 3837\n",
        "Tester      : 3758\n",
        "Unforgiving : 3338\n",
        "Graaskamp   : 3309\n",
        "Joss        : 2723\n",
        "Ad          : 2432\n",
        "\"\"\"\n",
        "print(f\"The results of simulating a tournament of {ITERATIONS} iterations (with or without\\nthe option of a strategy playing with itself) have been generated !!!!\")"
      ],
      "metadata": {
        "colab": {
          "base_uri": "https://localhost:8080/"
        },
        "id": "x_DX__II_LsQ",
        "outputId": "b0a94a24-f488-4135-92e8-1f78b4ac5d28"
      },
      "execution_count": 271,
      "outputs": [
        {
          "output_type": "stream",
          "name": "stdout",
          "text": [
            "The results of simulating a tournament of 10 iterations (with or without\n",
            "the option of a strategy playing with itself) have been generated !!!!\n"
          ]
        }
      ]
    },
    {
      "cell_type": "markdown",
      "source": [
        "## 2) Concatenate the tournaments' results"
      ],
      "metadata": {
        "id": "RaPsTdAMauXV"
      }
    },
    {
      "cell_type": "code",
      "source": [
        "def play_many_tournaments(ITERATIONS, ROUNDS, results1, results2, stats=False):\n",
        "\n",
        "    strategies = list(strategies_ALL.keys())\n",
        "    LEN = len(strategies)\n",
        "    all_tourn_points1 = {strategy:0 for strategy in strategies}\n",
        "    all_tourn_points2 = {strategy:0 for strategy in strategies}\n",
        "    for strategy in strategies:\n",
        "        for ITERATION in range(ITERATIONS):\n",
        "            all_tourn_points1[strategy] += results1[ITERATION][strategy]\n",
        "            all_tourn_points2[strategy] += results2[ITERATION][strategy]\n",
        "\n",
        "    sorted1 = dict(sorted(all_tourn_points1.items(), key=lambda item: item[1], reverse=True))\n",
        "    sorted2 = dict(sorted(all_tourn_points2.items(), key=lambda item: item[1], reverse=True))\n",
        "\n",
        "    if stats:\n",
        "        print(f\"{70 * '~'}\\nTournaments : {ITERATIONS}   |  Matches : {LEN}  |  Rounds : {ROUNDS}\\n\")\n",
        "        for strategy in sorted1.keys():\n",
        "            print(f\"{strategies_ALL[strategy]:11} : {sorted1[strategy]}\")\n",
        "        print(70 * '~', '\\n\\n')\n",
        "        print(f\"{70 * '~'}\\nTournaments : {ITERATIONS}   |  Matches : {LEN-1}  |  Rounds : {ROUNDS}\\n\")\n",
        "        for strategy in sorted2.keys():\n",
        "            print(f\"{strategies_ALL[strategy]:11} : {sorted2[strategy]}\")\n",
        "        print(70 * '~')\n",
        "\n",
        "    return sorted1, sorted2"
      ],
      "metadata": {
        "id": "0tFAY4U5b2g1"
      },
      "execution_count": 272,
      "outputs": []
    },
    {
      "cell_type": "code",
      "source": [
        "def print_bars(ax, BAR):\n",
        "    # Loop through each bar in bar1\n",
        "    for bar in BAR:\n",
        "        width = bar.get_width()\n",
        "        y = bar.get_y() + bar.get_height() / 2\n",
        "        ax.text(width/2, y, f'{width}', ha='center', va='center', color='white', fontsize=10)\n",
        "\n",
        "\n",
        "def visualize_tournaments(ITERATIONS, ROUNDS, sorted1, sorted2):\n",
        "\n",
        "    # Data\n",
        "    print(\"\\n\")\n",
        "    LEN = len(sorted1) if len(sorted1) == len(sorted2) else 0\n",
        "    x = np.arange(1, LEN + 1)\n",
        "    y1 = list(sorted1.values())\n",
        "    y2 = list(sorted2.values())\n",
        "    xticks1 = [strategies_ALL[strategy] for strategy in sorted1.keys()]\n",
        "    xticks2 = [strategies_ALL[strategy] for strategy in sorted2.keys()]\n",
        "    xticks1.reverse()\n",
        "    xticks2.reverse()\n",
        "    y1.reverse()\n",
        "    y2.reverse()\n",
        "\n",
        "    # Display\n",
        "    fig, (ax1, ax2) = plt.subplots(1, 2, figsize=(16, 4))\n",
        "    bar1 = ax1.barh(x, y1, color='green')\n",
        "    ax1.set_title(f\"Tournaments : {ITERATIONS}   |  Matches : {LEN}  |  Rounds : {ROUNDS}\")\n",
        "    ax1.set_xlabel('Points')\n",
        "    ax1.set_ylabel('Strategy')\n",
        "    ax1.set_yticks(x)\n",
        "    ax1.set_yticklabels(xticks1)\n",
        "    print_bars(ax1, bar1)\n",
        "\n",
        "    bar2 = ax2.barh(x, y2, color='red')\n",
        "    ax2.set_title(f\"Tournaments : {ITERATIONS}   |  Matches : {LEN-1}  |  Rounds : {ROUNDS}\")\n",
        "    ax2.set_xlabel('Points')\n",
        "    ax2.set_ylabel('Strategy')\n",
        "    ax2.set_yticks(x)\n",
        "    ax2.set_yticklabels(xticks2)\n",
        "    print_bars(ax2, bar2)\n",
        "    plt.show()\n",
        "    print(\"\\n\")"
      ],
      "metadata": {
        "id": "7PhrhTJof3_8"
      },
      "execution_count": 273,
      "outputs": []
    },
    {
      "cell_type": "code",
      "source": [
        "def elaborate_stats(ITERATIONS, ROUNDS, sorted1, sorted2):\n",
        "\n",
        "    MATCHES1 = len(sorted1) if len(sorted1) == len(sorted2) else 0\n",
        "    MATCHES2 = MATCHES1 - 1\n",
        "\n",
        "    winner1 = list(sorted1.keys())[0]\n",
        "    winner2 = list(sorted2.keys())[0]\n",
        "    loser1 = list(sorted1.keys())[-1]\n",
        "    loser2 = list(sorted2.keys())[-1]\n",
        "\n",
        "    w1_name = strategies_ALL[winner1]\n",
        "    w2_name = strategies_ALL[winner2]\n",
        "    l1_name = strategies_ALL[loser1]\n",
        "    l2_name = strategies_ALL[loser2]\n",
        "\n",
        "    w1_score = sorted1[winner1]\n",
        "    w2_score = sorted2[winner2]\n",
        "    l1_score = sorted1[loser1]\n",
        "    l2_score = sorted2[loser2]\n",
        "\n",
        "    # For the case a strategy plays also with itself\n",
        "    print(f\"{70 * '~'}\\nTournaments : {ITERATIONS}   |  Matches : {MATCHES1}  |  Rounds : {ROUNDS}\\n\")\n",
        "    df1_dict = {\"Best Strategy\": [w1_name, w1_score, w1_score / ITERATIONS, w1_score / ITERATIONS / MATCHES1, w1_score / ITERATIONS / MATCHES1 / ROUNDS], \"Worst Strategy\": [l1_name, l1_score, l1_score / ITERATIONS, l1_score / ITERATIONS / MATCHES1, l1_score / ITERATIONS / MATCHES1 / ROUNDS]}\n",
        "    df1 = pd.DataFrame(data=df1_dict)\n",
        "    df1.index = [\"Name\", \"Total Points\", \"Points / Tournament\", \"Points / Match\", \"Points / Round\"]\n",
        "    print(df1, '\\n\\n\\n')\n",
        "    print(f\"Tournaments : {ITERATIONS}   |  Matches : {MATCHES2}  |  Rounds : {ROUNDS}\\n\")\n",
        "    df2_dict = {\"Best Strategy\": [w2_name, w2_score, w2_score / ITERATIONS, w2_score / ITERATIONS / MATCHES2, w2_score / ITERATIONS / MATCHES2 / ROUNDS], \"Worst Strategy\": [l2_name, l2_score, l2_score / ITERATIONS, l2_score / ITERATIONS / MATCHES2, l2_score / ITERATIONS / MATCHES2 / ROUNDS]}\n",
        "    df2 = pd.DataFrame(data=df2_dict)\n",
        "    df2.index = [\"Name\", \"Total Points\", \"Points / Tournament\", \"Points / Match\", \"Points / Round\"]\n",
        "    print(df2, f\"\\n{70 * '~'}\")"
      ],
      "metadata": {
        "id": "mASLLrwduhGQ"
      },
      "execution_count": 274,
      "outputs": []
    },
    {
      "cell_type": "code",
      "source": [
        "# Prints the basic stats + visualize the results + show more elaborate stats\n",
        "sorted1, sorted2 = play_many_tournaments(ITERATIONS, ROUNDS, results1, results2, stats=True)\n",
        "visualize_tournaments(ITERATIONS, ROUNDS, sorted1, sorted2)\n",
        "elaborate_stats(ITERATIONS, ROUNDS, sorted1, sorted2)"
      ],
      "metadata": {
        "colab": {
          "base_uri": "https://localhost:8080/",
          "height": 1000
        },
        "id": "ynVwz7gPRYxY",
        "outputId": "4ffa7131-2fae-40e1-93fa-71a401ff3f24"
      },
      "execution_count": 275,
      "outputs": [
        {
          "output_type": "stream",
          "name": "stdout",
          "text": [
            "~~~~~~~~~~~~~~~~~~~~~~~~~~~~~~~~~~~~~~~~~~~~~~~~~~~~~~~~~~~~~~~~~~~~~~\n",
            "Tournaments : 10   |  Matches : 8  |  Rounds : 200\n",
            "\n",
            "TF2T        : 40293\n",
            "TFT         : 39620\n",
            "AC          : 38403\n",
            "Tester      : 37516\n",
            "Unforgiving : 33356\n",
            "Graaskamp   : 33058\n",
            "Joss        : 26556\n",
            "Ad          : 24320\n",
            "~~~~~~~~~~~~~~~~~~~~~~~~~~~~~~~~~~~~~~~~~~~~~~~~~~~~~~~~~~~~~~~~~~~~~~ \n",
            "\n",
            "\n",
            "~~~~~~~~~~~~~~~~~~~~~~~~~~~~~~~~~~~~~~~~~~~~~~~~~~~~~~~~~~~~~~~~~~~~~~\n",
            "Tournaments : 10   |  Matches : 7  |  Rounds : 200\n",
            "\n",
            "TF2T        : 33864\n",
            "TFT         : 33812\n",
            "Tester      : 33741\n",
            "AC          : 32334\n",
            "Graaskamp   : 29895\n",
            "Unforgiving : 27250\n",
            "Joss        : 24061\n",
            "Ad          : 22320\n",
            "~~~~~~~~~~~~~~~~~~~~~~~~~~~~~~~~~~~~~~~~~~~~~~~~~~~~~~~~~~~~~~~~~~~~~~\n",
            "\n",
            "\n"
          ]
        },
        {
          "output_type": "display_data",
          "data": {
            "text/plain": [
              "<Figure size 1600x400 with 2 Axes>"
            ],
            "image/png": "[encoded data removed]"
          },
          "metadata": {}
        },
        {
          "output_type": "stream",
          "name": "stdout",
          "text": [
            "\n",
            "\n",
            "~~~~~~~~~~~~~~~~~~~~~~~~~~~~~~~~~~~~~~~~~~~~~~~~~~~~~~~~~~~~~~~~~~~~~~\n",
            "Tournaments : 10   |  Matches : 8  |  Rounds : 200\n",
            "\n",
            "                    Best Strategy Worst Strategy\n",
            "Name                         TF2T             Ad\n",
            "Total Points                40293          24320\n",
            "Points / Tournament        4029.3         2432.0\n",
            "Points / Match           503.6625          304.0\n",
            "Points / Round           2.518312           1.52 \n",
            "\n",
            "\n",
            "\n",
            "Tournaments : 10   |  Matches : 7  |  Rounds : 200\n",
            "\n",
            "                    Best Strategy Worst Strategy\n",
            "Name                         TF2T             Ad\n",
            "Total Points                33864          22320\n",
            "Points / Tournament        3386.4         2232.0\n",
            "Points / Match         483.771429     318.857143\n",
            "Points / Round           2.418857       1.594286 \n",
            "~~~~~~~~~~~~~~~~~~~~~~~~~~~~~~~~~~~~~~~~~~~~~~~~~~~~~~~~~~~~~~~~~~~~~~\n"
          ]
        }
      ]
    }
  ]
}